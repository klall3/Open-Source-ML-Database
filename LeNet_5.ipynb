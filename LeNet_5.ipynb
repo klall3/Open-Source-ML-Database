{
 "cells": [
  {
   "cell_type": "markdown",
   "metadata": {},
   "source": [
    "# LeNet 5 on MNIST Dataset"
   ]
  },
  {
   "cell_type": "code",
   "execution_count": 12,
   "metadata": {},
   "outputs": [],
   "source": [
    "# Importing the standard libraries\n",
    "import numpy as np\n",
    "import pandas as pd\n",
    "\n",
    "import keras\n",
    "\n",
    "from keras.models import Sequential\n",
    "from keras.layers import Conv2D\n",
    "from keras.layers import AveragePooling2D\n",
    "from keras.layers import MaxPooling2D\n",
    "from keras.layers import Flatten\n",
    "from keras.layers import Dense\n",
    "\n",
    "from keras.datasets import mnist"
   ]
  },
  {
   "cell_type": "code",
   "execution_count": 13,
   "metadata": {},
   "outputs": [],
   "source": [
    "(X_train, y_train), (X_test, y_test) = mnist.load_data()\n",
    "\n",
    "X_train = np.array(X_train)\n",
    "X_test = np.array(X_test)\n",
    "\n",
    "#Reshape the training and test set\n",
    "X_train = X_train.reshape(X_train.shape[0], 28, 28, 1)\n",
    "X_test = X_test.reshape(X_test.shape[0], 28, 28, 1)\n",
    "\n",
    "#Padding the images by 2 pixels since in the paper input images were 32x32\n",
    "X_train = np.pad(X_train, ((0,0),(2,2),(2,2),(0,0)), 'constant')\n",
    "X_test = np.pad(X_test, ((0,0),(2,2),(2,2),(0,0)), 'constant')\n",
    "\n",
    "#Standardization\n",
    "mean_px = X_train.mean().astype(np.float32)\n",
    "std_px = X_train.std().astype(np.float32)\n",
    "X_train = (X_train - mean_px)/(std_px)\n",
    "\n",
    "#One-hot encoding the labels\n",
    "from keras.utils.np_utils import to_categorical\n",
    "y_train = to_categorical(y_train)"
   ]
  },
  {
   "cell_type": "code",
   "execution_count": 14,
   "metadata": {},
   "outputs": [
    {
     "name": "stdout",
     "output_type": "stream",
     "text": [
      "Epoch 1/20\n",
      "10/10 [==============================] - 186s 19s/step - loss: 2.1834 - acc: 0.3382\n",
      "Epoch 2/20\n",
      "10/10 [==============================] - 186s 19s/step - loss: 1.5016 - acc: 0.6896\n",
      "Epoch 3/20\n",
      "10/10 [==============================] - 183s 18s/step - loss: 0.6366 - acc: 0.8338\n",
      "Epoch 4/20\n",
      "10/10 [==============================] - 159s 16s/step - loss: 0.3715 - acc: 0.8870\n",
      "Epoch 5/20\n",
      "10/10 [==============================] - 196s 20s/step - loss: 0.2869 - acc: 0.9127\n",
      "Epoch 6/20\n",
      "10/10 [==============================] - 197s 20s/step - loss: 0.2370 - acc: 0.9281\n",
      "Epoch 7/20\n",
      "10/10 [==============================] - 199s 20s/step - loss: 0.2009 - acc: 0.9389\n",
      "Epoch 8/20\n",
      "10/10 [==============================] - 197s 20s/step - loss: 0.1736 - acc: 0.9475\n",
      "Epoch 9/20\n",
      "10/10 [==============================] - 196s 20s/step - loss: 0.1520 - acc: 0.9539\n",
      "Epoch 10/20\n",
      "10/10 [==============================] - 199s 20s/step - loss: 0.1343 - acc: 0.9591\n",
      "Epoch 11/20\n",
      "10/10 [==============================] - 197s 20s/step - loss: 0.1202 - acc: 0.9637\n",
      "Epoch 12/20\n",
      "10/10 [==============================] - 195s 20s/step - loss: 0.1088 - acc: 0.9675\n",
      "Epoch 13/20\n",
      "10/10 [==============================] - 196s 20s/step - loss: 0.0998 - acc: 0.9704\n",
      "Epoch 14/20\n",
      "10/10 [==============================] - 204s 20s/step - loss: 0.0922 - acc: 0.9726\n",
      "Epoch 15/20\n",
      "10/10 [==============================] - 208s 21s/step - loss: 0.0856 - acc: 0.9745\n",
      "Epoch 16/20\n",
      "10/10 [==============================] - 205s 21s/step - loss: 0.0801 - acc: 0.9763\n",
      "Epoch 17/20\n",
      "10/10 [==============================] - 200s 20s/step - loss: 0.0749 - acc: 0.9779\n",
      "Epoch 18/20\n",
      "10/10 [==============================] - 205s 21s/step - loss: 0.0704 - acc: 0.9793\n",
      "Epoch 19/20\n",
      "10/10 [==============================] - 203s 20s/step - loss: 0.0668 - acc: 0.9803\n",
      "Epoch 20/20\n",
      "10/10 [==============================] - 207s 21s/step - loss: 0.0629 - acc: 0.9815\n"
     ]
    }
   ],
   "source": [
    "model = Sequential()\n",
    "\n",
    "#Layer 1\n",
    "#Conv Layer 1\n",
    "model.add(Conv2D(filters = 6, \n",
    "                 kernel_size = 5, \n",
    "                 strides = 1, \n",
    "                 activation = 'relu', \n",
    "                 input_shape = (32,32,1)))\n",
    "#Pooling layer 1\n",
    "model.add(AveragePooling2D(pool_size = 2, strides = 2))\n",
    "\n",
    "#Layer 2\n",
    "#Conv Layer 2\n",
    "model.add(Conv2D(filters = 16, \n",
    "                 kernel_size = 5,\n",
    "                 strides = 1,\n",
    "                 activation = 'relu',\n",
    "                 input_shape = (14,14,6)))\n",
    "#Pooling Layer 2\n",
    "model.add(AveragePooling2D(pool_size = 2, strides = 2))\n",
    "\n",
    "#Flatten\n",
    "model.add(Flatten())\n",
    "\n",
    "#Layer 3\n",
    "#Fully connected layer 1\n",
    "model.add(Dense(units = 120, activation = 'relu'))\n",
    "\n",
    "#Layer 4\n",
    "#Fully connected layer 2\n",
    "model.add(Dense(units = 84, activation = 'relu'))\n",
    "#Layer 5\n",
    "#Output Layer\n",
    "model.add(Dense(units = 10, activation = 'softmax'))\n",
    "model.compile(optimizer = 'adam', loss = 'categorical_crossentropy', metrics = ['accuracy'])\n",
    "\n",
    "model.fit(X_train ,y_train, steps_per_epoch = 10, epochs = 20)\n",
    "\n",
    "y_pred = model.predict(X_test)"
   ]
  }
 ],
 "metadata": {
  "kernelspec": {
   "display_name": "Python 3",
   "language": "python",
   "name": "python3"
  },
  "language_info": {
   "codemirror_mode": {
    "name": "ipython",
    "version": 3
   },
   "file_extension": ".py",
   "mimetype": "text/x-python",
   "name": "python",
   "nbconvert_exporter": "python",
   "pygments_lexer": "ipython3",
   "version": "3.6.8"
  }
 },
 "nbformat": 4,
 "nbformat_minor": 2
}
